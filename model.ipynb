{
 "cells": [
  {
   "cell_type": "code",
   "execution_count": 40,
   "metadata": {},
   "outputs": [],
   "source": [
    "# import\n",
    "import torch\n",
    "import torch.nn as nn"
   ]
  },
  {
   "cell_type": "code",
   "execution_count": 41,
   "metadata": {},
   "outputs": [],
   "source": [
    "\"\"\"\n",
    "Return: depth scaling factor (d), width scaling factor (w), resolution scaling factor (r)\n",
    "\"\"\"\n",
    "def params(version):\n",
    "    if version == 'n':\n",
    "        return 1/3, 1/4, 2.0\n",
    "    elif version == 's':\n",
    "        return 1/3, 1/2, 2.0\n",
    "    elif version == 'm':\n",
    "        return 2/3, 3/4, 1.5\n",
    "    elif version == 'l':\n",
    "        return 1.0, 1.0, 1.0\n",
    "    elif version == 'x':\n",
    "        return 1.0, 1.25, 1.0"
   ]
  },
  {
   "cell_type": "markdown",
   "metadata": {},
   "source": [
    "# 1. Backbone"
   ]
  },
  {
   "cell_type": "markdown",
   "metadata": {},
   "source": [
    "## (a) Conv\n",
    "![Conv](images/conv.jpg)"
   ]
  },
  {
   "cell_type": "code",
   "execution_count": 42,
   "metadata": {},
   "outputs": [
    {
     "name": "stdout",
     "output_type": "stream",
     "text": [
      "(0):\n",
      "Conv(\n",
      "  (conv): Conv2d(3, 32, kernel_size=(3, 3), stride=(2, 2), padding=(1, 1), bias=False)\n",
      "  (bn): BatchNorm2d(32, eps=0.001, momentum=0.03, affine=True, track_running_stats=True)\n",
      "  (act): SiLU(inplace=True)\n",
      ")\n",
      "torch.Size([1, 32, 320, 320])\n"
     ]
    }
   ],
   "source": [
    "class Conv(nn.Module):\n",
    "    \"\"\"\n",
    "    in_c: int, number of input channels (typically 3 for RGB images)\n",
    "    out_c: int, number of output channels (number of filters)\n",
    "    k: int, size of the kernel\n",
    "    s: int, stride of the kernel\n",
    "    p: int, padding of the kernel\n",
    "    g: int, number of groups\n",
    "    act: bool, whether to use activation function SiLU\n",
    "    \"\"\"\n",
    "    def __init__(self, in_c, out_c, k = 3, s = 1, p = 1, g = 1, act = True):\n",
    "        super().__init__()\n",
    "\n",
    "        # Conv2d: a convolutional layer\n",
    "        \"\"\"\n",
    "        in_c: int, number of input channels\n",
    "        out_c: int, number of output channels\n",
    "        k: int, size of the kernel\n",
    "        s: int, stride of the kernel\n",
    "        p: int, padding of the kernel\n",
    "        g: int, number of groups\n",
    "        bias: bool, whether to use bias\n",
    "        \"\"\"\n",
    "        self.conv = nn.Conv2d(in_c, out_c, k, s, p, bias = False, groups = g)\n",
    "\n",
    "        # BatchNorm2d: a normalization layer\n",
    "        \"\"\"\n",
    "        num_features: int, number of features\n",
    "        eps: float, a value added to the denominator for numerical stability\n",
    "        momentum: float, the value used for the running_mean and running_var computation\n",
    "        \"\"\"\n",
    "        self.bn = nn.BatchNorm2d(num_features = out_c, eps = 0.001, momentum = 0.03)\n",
    "\n",
    "        # SiLU: an activation function\n",
    "        \"\"\"\n",
    "        inplace: bool, whether to modify the input directly\n",
    "        \"\"\"\n",
    "        self.act = nn.SiLU(inplace = True) if act else nn.Identity()\n",
    "\n",
    "\n",
    "    def forward(self, x):\n",
    "        return self.act(self.bn(self.conv(x)))\n",
    "    \n",
    "\n",
    "\n",
    "# Sanity check\n",
    "if __name__ == \"__main__\":\n",
    "    version = 's'\n",
    "    d, w, r = params(version)\n",
    "\n",
    "    print(\"(0):\")\n",
    "\n",
    "    \"\"\"\n",
    "    input channels: 3\n",
    "    output channels: 32\n",
    "    kernel size: 3\n",
    "    stride: 2\n",
    "    padding: 1\n",
    "    groups: 1\n",
    "    activation: True\n",
    "    \"\"\"\n",
    "    print(Conv(in_c = 3, out_c = int(64*w), k = 3, s = 2, p = 1, g = 1, act = True))\n",
    "\n",
    "    \"\"\"\n",
    "    batch size: 1\n",
    "    input channels: 3\n",
    "    image height: 224\n",
    "    image width: 224\n",
    "    \"\"\"\n",
    "    print(Conv(in_c = 3, out_c = int(64*w), k = 3, s = 2, p = 1, g = 1, act = True)(torch.randn(1, 3, 640, 640)).shape)"
   ]
  }
 ],
 "metadata": {
  "kernelspec": {
   "display_name": "Python 3",
   "language": "python",
   "name": "python3"
  },
  "language_info": {
   "codemirror_mode": {
    "name": "ipython",
    "version": 3
   },
   "file_extension": ".py",
   "mimetype": "text/x-python",
   "name": "python",
   "nbconvert_exporter": "python",
   "pygments_lexer": "ipython3",
   "version": "3.12.7"
  }
 },
 "nbformat": 4,
 "nbformat_minor": 2
}
